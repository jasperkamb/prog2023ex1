{
  "nbformat": 4,
  "nbformat_minor": 0,
  "metadata": {
    "colab": {
      "provenance": []
    },
    "kernelspec": {
      "name": "python3",
      "display_name": "Python 3"
    },
    "language_info": {
      "name": "python"
    }
  },
  "cells": [
    {
      "cell_type": "code",
      "execution_count": 3,
      "metadata": {
        "id": "iHIlXqEsitAy"
      },
      "outputs": [],
      "source": [
        "def intersection(lst1, lst2):\n",
        "    return list(set(lst1) & set(lst2))"
      ]
    },
    {
      "cell_type": "code",
      "source": [
        "set1 = [1, 2, 3]\n",
        "set2 = [2, 3]\n",
        "\n",
        "intersection(set1, set2)"
      ],
      "metadata": {
        "colab": {
          "base_uri": "https://localhost:8080/"
        },
        "id": "EYcbfrt_kKWL",
        "outputId": "5e102bf6-a36c-4bc1-c1b1-1c9fbd8976ce"
      },
      "execution_count": 4,
      "outputs": [
        {
          "output_type": "execute_result",
          "data": {
            "text/plain": [
              "[2, 3]"
            ]
          },
          "metadata": {},
          "execution_count": 4
        }
      ]
    }
  ]
}