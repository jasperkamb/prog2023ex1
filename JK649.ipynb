{
  "nbformat": 4,
  "nbformat_minor": 0,
  "metadata": {
    "colab": {
      "provenance": []
    },
    "kernelspec": {
      "name": "python3",
      "display_name": "Python 3"
    },
    "language_info": {
      "name": "python"
    }
  },
  "cells": [
    {
      "cell_type": "code",
      "execution_count": 7,
      "metadata": {
        "id": "iHIlXqEsitAy"
      },
      "outputs": [],
      "source": [
        "def intersection(lst1, lst2):\n",
        "    list_intersect = []\n",
        "    for i in lst1:\n",
        "        if i in lst2:\n",
        "            list_intersect.append(i)\n",
        "    return list_intersect"
      ]
    },
    {
      "cell_type": "code",
      "source": [
        "set1 = [1, 2, 3, 10, 12]\n",
        "set2 = [2, 3, 10]\n",
        "\n",
        "intersection(set1, set2)"
      ],
      "metadata": {
        "colab": {
          "base_uri": "https://localhost:8080/"
        },
        "id": "EYcbfrt_kKWL",
        "outputId": "cb07f5ac-827f-4ea9-b9d9-4be1b5d167df"
      },
      "execution_count": 9,
      "outputs": [
        {
          "output_type": "execute_result",
          "data": {
            "text/plain": [
              "[2, 3, 10]"
            ]
          },
          "metadata": {},
          "execution_count": 9
        }
      ]
    }
  ]
}