{
 "cells": [
  {
   "cell_type": "code",
   "execution_count": null,
   "metadata": {},
   "outputs": [],
   "source": [
    "def intersection(A, B):\n",
    "    result = []\n",
    "    \n",
    "    for a in A:\n",
    "        for b in B:\n",
    "            if a == b:\n",
    "                result.append(a)\n",
    "    \n",
    "    return result\n",
    "\n",
    "A = [2, 4, 5, 6]\n",
    "B = [4, 6, 7, 8]\n",
    "\n",
    "result = intersection(A, B)\n",
    "print(result)"
   ]
  }
 ],
 "metadata": {
  "language_info": {
   "name": "python"
  }
 },
 "nbformat": 4,
 "nbformat_minor": 2
}
